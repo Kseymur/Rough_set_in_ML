{
  "nbformat": 4,
  "nbformat_minor": 0,
  "metadata": {
    "colab": {
      "provenance": []
    },
    "kernelspec": {
      "name": "python3",
      "display_name": "Python 3"
    },
    "language_info": {
      "name": "python"
    }
  },
  "cells": [
    {
      "cell_type": "code",
      "execution_count": 128,
      "metadata": {
        "id": "m9XQutri0epc"
      },
      "outputs": [],
      "source": [
        "import pandas as pd"
      ]
    },
    {
      "cell_type": "code",
      "source": [
        "data = pd.DataFrame({'Прогноз погоды':['Пасмурно', 'Солнечно', 'Солнечно', 'Пасмурно', 'Пасмурно', 'Дождливо', 'Солнечно', 'Дождливо', 'Дождливо', 'Пасмурно'],\n",
        "                     'Влажность%':[87,80,80,75,75,80,80,80,85,87], 'Ветер':[False,True,True,True,True,False,True,False,False,False], \n",
        "                     'Играть ли в гольф':[1,1,1,1,1,0,0,0,0,1]})"
      ],
      "metadata": {
        "id": "c0Ck2Ecyg8I6"
      },
      "execution_count": 129,
      "outputs": []
    },
    {
      "cell_type": "code",
      "source": [
        "data"
      ],
      "metadata": {
        "colab": {
          "base_uri": "https://localhost:8080/",
          "height": 363
        },
        "id": "eJmkYyesmftN",
        "outputId": "d052e3af-a9bb-482c-c944-189f4abc5398"
      },
      "execution_count": 130,
      "outputs": [
        {
          "output_type": "execute_result",
          "data": {
            "text/plain": [
              "  Прогноз погоды  Влажность%  Ветер  Играть ли в гольф\n",
              "0       Пасмурно          87  False                  1\n",
              "1       Солнечно          80   True                  1\n",
              "2       Солнечно          80   True                  1\n",
              "3       Пасмурно          75   True                  1\n",
              "4       Пасмурно          75   True                  1\n",
              "5       Дождливо          80  False                  0\n",
              "6       Солнечно          80   True                  0\n",
              "7       Дождливо          80  False                  0\n",
              "8       Дождливо          85  False                  0\n",
              "9       Пасмурно          87  False                  1"
            ],
            "text/html": [
              "\n",
              "  <div id=\"df-495c8570-48a6-4d41-99a1-a7b54e4d0e6f\">\n",
              "    <div class=\"colab-df-container\">\n",
              "      <div>\n",
              "<style scoped>\n",
              "    .dataframe tbody tr th:only-of-type {\n",
              "        vertical-align: middle;\n",
              "    }\n",
              "\n",
              "    .dataframe tbody tr th {\n",
              "        vertical-align: top;\n",
              "    }\n",
              "\n",
              "    .dataframe thead th {\n",
              "        text-align: right;\n",
              "    }\n",
              "</style>\n",
              "<table border=\"1\" class=\"dataframe\">\n",
              "  <thead>\n",
              "    <tr style=\"text-align: right;\">\n",
              "      <th></th>\n",
              "      <th>Прогноз погоды</th>\n",
              "      <th>Влажность%</th>\n",
              "      <th>Ветер</th>\n",
              "      <th>Играть ли в гольф</th>\n",
              "    </tr>\n",
              "  </thead>\n",
              "  <tbody>\n",
              "    <tr>\n",
              "      <th>0</th>\n",
              "      <td>Пасмурно</td>\n",
              "      <td>87</td>\n",
              "      <td>False</td>\n",
              "      <td>1</td>\n",
              "    </tr>\n",
              "    <tr>\n",
              "      <th>1</th>\n",
              "      <td>Солнечно</td>\n",
              "      <td>80</td>\n",
              "      <td>True</td>\n",
              "      <td>1</td>\n",
              "    </tr>\n",
              "    <tr>\n",
              "      <th>2</th>\n",
              "      <td>Солнечно</td>\n",
              "      <td>80</td>\n",
              "      <td>True</td>\n",
              "      <td>1</td>\n",
              "    </tr>\n",
              "    <tr>\n",
              "      <th>3</th>\n",
              "      <td>Пасмурно</td>\n",
              "      <td>75</td>\n",
              "      <td>True</td>\n",
              "      <td>1</td>\n",
              "    </tr>\n",
              "    <tr>\n",
              "      <th>4</th>\n",
              "      <td>Пасмурно</td>\n",
              "      <td>75</td>\n",
              "      <td>True</td>\n",
              "      <td>1</td>\n",
              "    </tr>\n",
              "    <tr>\n",
              "      <th>5</th>\n",
              "      <td>Дождливо</td>\n",
              "      <td>80</td>\n",
              "      <td>False</td>\n",
              "      <td>0</td>\n",
              "    </tr>\n",
              "    <tr>\n",
              "      <th>6</th>\n",
              "      <td>Солнечно</td>\n",
              "      <td>80</td>\n",
              "      <td>True</td>\n",
              "      <td>0</td>\n",
              "    </tr>\n",
              "    <tr>\n",
              "      <th>7</th>\n",
              "      <td>Дождливо</td>\n",
              "      <td>80</td>\n",
              "      <td>False</td>\n",
              "      <td>0</td>\n",
              "    </tr>\n",
              "    <tr>\n",
              "      <th>8</th>\n",
              "      <td>Дождливо</td>\n",
              "      <td>85</td>\n",
              "      <td>False</td>\n",
              "      <td>0</td>\n",
              "    </tr>\n",
              "    <tr>\n",
              "      <th>9</th>\n",
              "      <td>Пасмурно</td>\n",
              "      <td>87</td>\n",
              "      <td>False</td>\n",
              "      <td>1</td>\n",
              "    </tr>\n",
              "  </tbody>\n",
              "</table>\n",
              "</div>\n",
              "      <button class=\"colab-df-convert\" onclick=\"convertToInteractive('df-495c8570-48a6-4d41-99a1-a7b54e4d0e6f')\"\n",
              "              title=\"Convert this dataframe to an interactive table.\"\n",
              "              style=\"display:none;\">\n",
              "        \n",
              "  <svg xmlns=\"http://www.w3.org/2000/svg\" height=\"24px\"viewBox=\"0 0 24 24\"\n",
              "       width=\"24px\">\n",
              "    <path d=\"M0 0h24v24H0V0z\" fill=\"none\"/>\n",
              "    <path d=\"M18.56 5.44l.94 2.06.94-2.06 2.06-.94-2.06-.94-.94-2.06-.94 2.06-2.06.94zm-11 1L8.5 8.5l.94-2.06 2.06-.94-2.06-.94L8.5 2.5l-.94 2.06-2.06.94zm10 10l.94 2.06.94-2.06 2.06-.94-2.06-.94-.94-2.06-.94 2.06-2.06.94z\"/><path d=\"M17.41 7.96l-1.37-1.37c-.4-.4-.92-.59-1.43-.59-.52 0-1.04.2-1.43.59L10.3 9.45l-7.72 7.72c-.78.78-.78 2.05 0 2.83L4 21.41c.39.39.9.59 1.41.59.51 0 1.02-.2 1.41-.59l7.78-7.78 2.81-2.81c.8-.78.8-2.07 0-2.86zM5.41 20L4 18.59l7.72-7.72 1.47 1.35L5.41 20z\"/>\n",
              "  </svg>\n",
              "      </button>\n",
              "      \n",
              "  <style>\n",
              "    .colab-df-container {\n",
              "      display:flex;\n",
              "      flex-wrap:wrap;\n",
              "      gap: 12px;\n",
              "    }\n",
              "\n",
              "    .colab-df-convert {\n",
              "      background-color: #E8F0FE;\n",
              "      border: none;\n",
              "      border-radius: 50%;\n",
              "      cursor: pointer;\n",
              "      display: none;\n",
              "      fill: #1967D2;\n",
              "      height: 32px;\n",
              "      padding: 0 0 0 0;\n",
              "      width: 32px;\n",
              "    }\n",
              "\n",
              "    .colab-df-convert:hover {\n",
              "      background-color: #E2EBFA;\n",
              "      box-shadow: 0px 1px 2px rgba(60, 64, 67, 0.3), 0px 1px 3px 1px rgba(60, 64, 67, 0.15);\n",
              "      fill: #174EA6;\n",
              "    }\n",
              "\n",
              "    [theme=dark] .colab-df-convert {\n",
              "      background-color: #3B4455;\n",
              "      fill: #D2E3FC;\n",
              "    }\n",
              "\n",
              "    [theme=dark] .colab-df-convert:hover {\n",
              "      background-color: #434B5C;\n",
              "      box-shadow: 0px 1px 3px 1px rgba(0, 0, 0, 0.15);\n",
              "      filter: drop-shadow(0px 1px 2px rgba(0, 0, 0, 0.3));\n",
              "      fill: #FFFFFF;\n",
              "    }\n",
              "  </style>\n",
              "\n",
              "      <script>\n",
              "        const buttonEl =\n",
              "          document.querySelector('#df-495c8570-48a6-4d41-99a1-a7b54e4d0e6f button.colab-df-convert');\n",
              "        buttonEl.style.display =\n",
              "          google.colab.kernel.accessAllowed ? 'block' : 'none';\n",
              "\n",
              "        async function convertToInteractive(key) {\n",
              "          const element = document.querySelector('#df-495c8570-48a6-4d41-99a1-a7b54e4d0e6f');\n",
              "          const dataTable =\n",
              "            await google.colab.kernel.invokeFunction('convertToInteractive',\n",
              "                                                     [key], {});\n",
              "          if (!dataTable) return;\n",
              "\n",
              "          const docLinkHtml = 'Like what you see? Visit the ' +\n",
              "            '<a target=\"_blank\" href=https://colab.research.google.com/notebooks/data_table.ipynb>data table notebook</a>'\n",
              "            + ' to learn more about interactive tables.';\n",
              "          element.innerHTML = '';\n",
              "          dataTable['output_type'] = 'display_data';\n",
              "          await google.colab.output.renderOutput(dataTable, element);\n",
              "          const docLink = document.createElement('div');\n",
              "          docLink.innerHTML = docLinkHtml;\n",
              "          element.appendChild(docLink);\n",
              "        }\n",
              "      </script>\n",
              "    </div>\n",
              "  </div>\n",
              "  "
            ]
          },
          "metadata": {},
          "execution_count": 130
        }
      ]
    },
    {
      "cell_type": "code",
      "source": [
        "X = data[['Прогноз погоды', 'Влажность%', 'Ветер']]\n",
        "X_true = data[['Прогноз погоды', 'Влажность%', 'Ветер']][data['Играть ли в гольф'] == 1]\n",
        "\n",
        "all_indexes = set(data.index)\n",
        "X_true_indexes = set(X_true.index)"
      ],
      "metadata": {
        "id": "h0sO6GRKo_SN"
      },
      "execution_count": 131,
      "outputs": []
    },
    {
      "cell_type": "code",
      "source": [
        "def get_elementary_subsets(X): #get elementary subsets from set of objects\n",
        "    subsets = []\n",
        "    for i in range(len(X)):\n",
        "        similar = [i]\n",
        "        for j in range(i + 1, len(X)):\n",
        "            if X.iloc[i].equals(X.iloc[j]):\n",
        "                similar.append(j)\n",
        "\n",
        "        if not any(set(similar) & set(sub) for sub in subsets):\n",
        "            subsets.append(similar)\n",
        "\n",
        "    return subsets"
      ],
      "metadata": {
        "id": "syN_LDt1hY-W"
      },
      "execution_count": 132,
      "outputs": []
    },
    {
      "cell_type": "code",
      "source": [
        "def get_lower(elementary, X_true_indexes): #get a lower approximation\n",
        "    lower_init = [elem for elem in elementary if set(elem).issubset(X_true_indexes)]\n",
        "    lower = [elem[0] for elem in lower_init]\n",
        "    all_lower = [j for elem in lower_init for j in elem]\n",
        "\n",
        "    return lower_init, lower, all_lower"
      ],
      "metadata": {
        "id": "fsxxxUopIzhi"
      },
      "execution_count": 133,
      "outputs": []
    },
    {
      "cell_type": "code",
      "source": [
        "def get_upper(elementary, X_true_indexes): #get an upper approximation\n",
        "    upper_init = [elem for elem in elementary if set(elem).intersection(X_true_indexes) != set()]\n",
        "    upper = [elem[0] for elem in upper_init]\n",
        "    all_upper = [j for elem in upper_init for j in elem]\n",
        "    \n",
        "    return upper_init, upper, all_upper"
      ],
      "metadata": {
        "id": "Bd-sYdlVLOBy"
      },
      "execution_count": 134,
      "outputs": []
    },
    {
      "cell_type": "code",
      "source": [
        "def get_pos_rule(pos_dataframe): #get a rule to print only positive objects\n",
        "    res = 'если '\n",
        "    for item in pos_dataframe.items():\n",
        "        if item[0] != 'Играть ли в гольф':\n",
        "            res += f'({item[0]}='\n",
        "            value = ''\n",
        "            for l in range(len(item[1])):\n",
        "                if not value:\n",
        "                    value = str(item[1][l])\n",
        "                elif str(item[1][l]) in value:\n",
        "                    pass\n",
        "                else:\n",
        "                    value += str(f'V{item[1][l]}')\n",
        "            res += value\n",
        "            res += ')&'  \n",
        "        else:\n",
        "            res = res[:-1]\n",
        "            res += ', то играть ли=играть'\n",
        "    return res"
      ],
      "metadata": {
        "id": "wXgqKGffhRiy"
      },
      "execution_count": 135,
      "outputs": []
    },
    {
      "cell_type": "code",
      "source": [
        "def get_maybe_rule(maybe_dataframe): #get a rule to print objects are able to be positive\n",
        "    res = 'если '\n",
        "    for item in maybe_dataframe.items():\n",
        "        if item[0] != 'Играть ли в гольф':\n",
        "            res += f'({item[0]}='\n",
        "            value = ''\n",
        "            for l in range(len(item[1])):\n",
        "                if not value:\n",
        "                    value = str(item[1][l])\n",
        "                elif str(item[1][l]) in value:\n",
        "                    pass\n",
        "                else:\n",
        "                    value += str(f'V{item[1][l]}')\n",
        "            res += value\n",
        "            res += ')&'  \n",
        "        else:\n",
        "            res = res[:-1]\n",
        "            res += ', то играть ли=возможно играть'\n",
        "    return res"
      ],
      "metadata": {
        "id": "bNypN1-A5P79"
      },
      "execution_count": 136,
      "outputs": []
    },
    {
      "cell_type": "code",
      "source": [
        "def get_neg_rule(not_pos_dataframe): #get a rule to print only negative objects\n",
        "    res = 'если '\n",
        "    for item in not_pos_dataframe.items():\n",
        "        if item[0] != 'Играть ли в гольф':\n",
        "            res += f'({item[0]}='\n",
        "            value = ''\n",
        "            for l in range(len(item[1])):\n",
        "                if not value:\n",
        "                    value = str(item[1][l])\n",
        "                elif str(item[1][l]) in value:\n",
        "                    pass\n",
        "                else:\n",
        "                    value += str(f'V{item[1][l]}')\n",
        "            res += value\n",
        "            res += ')&'  \n",
        "        else:\n",
        "            res = res[:-1]\n",
        "            res += ', то играть ли=не играть'\n",
        "    return res"
      ],
      "metadata": {
        "id": "vIPpj78CphVT"
      },
      "execution_count": 137,
      "outputs": []
    },
    {
      "cell_type": "code",
      "source": [
        "elementary = get_elementary_subsets(X)"
      ],
      "metadata": {
        "id": "rfCwX4cebvHS"
      },
      "execution_count": 138,
      "outputs": []
    },
    {
      "cell_type": "code",
      "source": [
        "lower_init, lower, all_lower = get_lower(elementary, X_true_indexes)\n",
        "upper_init, upper, all_upper = get_upper(elementary, X_true_indexes) "
      ],
      "metadata": {
        "id": "gXX-Vyb0MxCQ"
      },
      "execution_count": 139,
      "outputs": []
    },
    {
      "cell_type": "code",
      "source": [
        "approximation_rate = len(all_lower)/len(all_upper) #get an approximation rate"
      ],
      "metadata": {
        "id": "fPEUI0ACPA4I"
      },
      "execution_count": 140,
      "outputs": []
    },
    {
      "cell_type": "code",
      "source": [
        "POS_x = lower\n",
        "BOND_x = set(upper).difference(set(lower))\n",
        "not_POS_x = all_indexes.difference(set(all_upper))  "
      ],
      "metadata": {
        "id": "CzgHBv6Jr5Cn"
      },
      "execution_count": 141,
      "outputs": []
    },
    {
      "cell_type": "code",
      "source": [
        "not_pos_dataframe = pd.DataFrame([data.loc[el] for el in not_POS_x], index=range(len(not_POS_x)))\n",
        "pos_dataframe = pd.DataFrame([data.loc[el] for el in POS_x], index=range(len(POS_x)))\n",
        "maybe_dataframe = pd.DataFrame([data.loc[el] for el in BOND_x], index=range(len(BOND_x)))"
      ],
      "metadata": {
        "id": "IEIkUNDUycuK"
      },
      "execution_count": 142,
      "outputs": []
    },
    {
      "cell_type": "code",
      "source": [
        "pos_rule = get_pos_rule(pos_dataframe)\n",
        "neg_rule = get_neg_rule(not_pos_dataframe)\n",
        "maybe_rule = get_maybe_rule(maybe_dataframe)"
      ],
      "metadata": {
        "id": "uGOrrcRIv0iz"
      },
      "execution_count": 143,
      "outputs": []
    },
    {
      "cell_type": "code",
      "source": [
        "#to print all the rules we get and the approximation rate\n",
        "print(f'1) {pos_rule}')\n",
        "print(f'2) {neg_rule}')\n",
        "print(f'3) {maybe_rule}')\n",
        "print(f'approximation rate is {approximation_rate}')"
      ],
      "metadata": {
        "colab": {
          "base_uri": "https://localhost:8080/"
        },
        "id": "0b3_zD27v0pA",
        "outputId": "ebee3811-f463-4e28-fb0e-9a3e920e3cbf"
      },
      "execution_count": 144,
      "outputs": [
        {
          "output_type": "stream",
          "name": "stdout",
          "text": [
            "1) если (Прогноз погоды=Пасмурно)&(Влажность%=87V75)&(Ветер=FalseVTrue), то играть ли=играть\n",
            "2) если (Прогноз погоды=Дождливо)&(Влажность%=85V80)&(Ветер=False), то играть ли=не играть\n",
            "3) если (Прогноз погоды=Солнечно)&(Влажность%=80)&(Ветер=True), то играть ли=возможно играть\n",
            "approximation rate is 0.5714285714285714\n"
          ]
        }
      ]
    }
  ]
}